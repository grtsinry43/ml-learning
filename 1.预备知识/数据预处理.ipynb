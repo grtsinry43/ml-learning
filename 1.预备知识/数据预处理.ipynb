{
 "cells": [
  {
   "metadata": {},
   "cell_type": "markdown",
   "source": [
    "# 数据预处理\n",
    "首先创建CSV文件"
   ],
   "id": "8ca0027df475acf1"
  },
  {
   "metadata": {},
   "cell_type": "markdown",
   "source": "",
   "id": "905a666958e2434c"
  },
  {
   "metadata": {
    "ExecuteTime": {
     "end_time": "2024-08-08T04:13:58.405744Z",
     "start_time": "2024-08-08T04:13:58.403202Z"
    }
   },
   "cell_type": "code",
   "source": [
    "import os\n",
    "\n",
    "os.makedirs(os.path.join('..', 'data'), exist_ok=True)\n",
    "data_file = os.path.join('..', 'data', 'house_tiny.csv')\n",
    "with open(data_file, 'w') as f:\n",
    "    f.write('NumRooms,Alley,Price\\n')  # 列名\n",
    "    f.write('NA,Pave,127500\\n')  # 每行表示一个数据样本\n",
    "    f.write('2,NA,106000\\n')\n",
    "    f.write('4,NA,178100\\n')\n",
    "    f.write('NA,NA,140000\\n')"
   ],
   "id": "2792a79f0d4396b9",
   "outputs": [],
   "execution_count": 3
  },
  {
   "metadata": {},
   "cell_type": "markdown",
   "source": "然后可以使用pandas读取数据",
   "id": "e0a22ab6251baea7"
  },
  {
   "metadata": {
    "ExecuteTime": {
     "end_time": "2024-08-08T04:14:01.080445Z",
     "start_time": "2024-08-08T04:14:01.075180Z"
    }
   },
   "cell_type": "code",
   "source": [
    "import pandas as pd\n",
    "\n",
    "data = pd.read_csv(data_file)\n",
    "print(data)"
   ],
   "id": "c3a40a0baa147054",
   "outputs": [
    {
     "name": "stdout",
     "output_type": "stream",
     "text": [
      "   NumRooms Alley   Price\n",
      "0       NaN  Pave  127500\n",
      "1       2.0   NaN  106000\n",
      "2       4.0   NaN  178100\n",
      "3       NaN   NaN  140000\n"
     ]
    }
   ],
   "execution_count": 4
  },
  {
   "metadata": {},
   "cell_type": "markdown",
   "source": "通过插值法填充缺失值",
   "id": "b1a80b1bbc81ccea"
  },
  {
   "metadata": {
    "ExecuteTime": {
     "end_time": "2024-08-08T04:14:03.203606Z",
     "start_time": "2024-08-08T04:14:03.199314Z"
    }
   },
   "cell_type": "code",
   "source": [
    "inputs, outputs = data.iloc[:, 0:2], data.iloc[:, 2]\n",
    "inputs = inputs.fillna(inputs.mean(numeric_only=True))\n",
    "print(inputs)"
   ],
   "id": "863d22741117f960",
   "outputs": [
    {
     "name": "stdout",
     "output_type": "stream",
     "text": [
      "   NumRooms Alley\n",
      "0       3.0  Pave\n",
      "1       2.0   NaN\n",
      "2       4.0   NaN\n",
      "3       3.0   NaN\n"
     ]
    }
   ],
   "execution_count": 5
  },
  {
   "metadata": {},
   "cell_type": "markdown",
   "source": "get_dummies可以将二元数据转换为两列",
   "id": "316a22f55b759ad2"
  },
  {
   "metadata": {
    "ExecuteTime": {
     "end_time": "2024-08-08T04:14:05.656970Z",
     "start_time": "2024-08-08T04:14:05.652107Z"
    }
   },
   "cell_type": "code",
   "source": [
    "inputs = pd.get_dummies(inputs, dummy_na=True)\n",
    "# 将布尔值 True 和 False 转换为 1 和 0\n",
    "inputs = inputs.astype(int)\n",
    "print(inputs)"
   ],
   "id": "38b72cdf38c0fd94",
   "outputs": [
    {
     "name": "stdout",
     "output_type": "stream",
     "text": [
      "   NumRooms  Alley_Pave  Alley_nan\n",
      "0         3           1          0\n",
      "1         2           0          1\n",
      "2         4           0          1\n",
      "3         3           0          1\n"
     ]
    }
   ],
   "execution_count": 6
  },
  {
   "metadata": {},
   "cell_type": "markdown",
   "source": "所有条目都已经是数值格式，可以转化为张量",
   "id": "bae6d51881f0dc8f"
  },
  {
   "metadata": {
    "ExecuteTime": {
     "end_time": "2024-08-08T04:14:09.237275Z",
     "start_time": "2024-08-08T04:14:08.518586Z"
    }
   },
   "cell_type": "code",
   "source": [
    "import torch\n",
    "\n",
    "X, y = torch.tensor(inputs.values), torch.tensor(outputs.values)\n",
    "print(X, y)"
   ],
   "id": "813596b2814d616b",
   "outputs": [
    {
     "name": "stdout",
     "output_type": "stream",
     "text": [
      "tensor([[3, 1, 0],\n",
      "        [2, 0, 1],\n",
      "        [4, 0, 1],\n",
      "        [3, 0, 1]]) tensor([127500, 106000, 178100, 140000])\n"
     ]
    }
   ],
   "execution_count": 7
  },
  {
   "metadata": {},
   "cell_type": "code",
   "outputs": [],
   "execution_count": null,
   "source": "",
   "id": "324e49310448dfaa"
  }
 ],
 "metadata": {
  "kernelspec": {
   "display_name": "Python 3",
   "language": "python",
   "name": "python3"
  },
  "language_info": {
   "codemirror_mode": {
    "name": "ipython",
    "version": 2
   },
   "file_extension": ".py",
   "mimetype": "text/x-python",
   "name": "python",
   "nbconvert_exporter": "python",
   "pygments_lexer": "ipython2",
   "version": "2.7.6"
  }
 },
 "nbformat": 4,
 "nbformat_minor": 5
}
