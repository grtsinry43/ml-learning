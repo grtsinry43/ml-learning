{
 "cells": [
  {
   "metadata": {},
   "cell_type": "markdown",
   "source": "# 自动微分",
   "id": "2c67134fe0e9d53b"
  },
  {
   "cell_type": "code",
   "id": "initial_id",
   "metadata": {
    "collapsed": true,
    "ExecuteTime": {
     "end_time": "2024-08-10T02:07:15.172993Z",
     "start_time": "2024-08-10T02:07:13.925426Z"
    }
   },
   "source": [
    "import torch\n",
    "\n",
    "x = torch.arange(4.0)\n",
    "x"
   ],
   "outputs": [
    {
     "data": {
      "text/plain": [
       "tensor([0., 1., 2., 3.])"
      ]
     },
     "execution_count": 1,
     "metadata": {},
     "output_type": "execute_result"
    }
   ],
   "execution_count": 1
  },
  {
   "metadata": {
    "ExecuteTime": {
     "end_time": "2024-08-10T02:08:09.855452Z",
     "start_time": "2024-08-10T02:08:09.853134Z"
    }
   },
   "cell_type": "code",
   "source": [
    "x.requires_grad_(True)  # 等价于 `x = torch.arange(4.0, requires_grad=True)`\n",
    "x.grad  # 默认值是None"
   ],
   "id": "c1415461c6143543",
   "outputs": [],
   "execution_count": 2
  },
  {
   "metadata": {
    "ExecuteTime": {
     "end_time": "2024-08-10T02:08:21.544817Z",
     "start_time": "2024-08-10T02:08:21.528518Z"
    }
   },
   "cell_type": "code",
   "source": [
    "y = 2 * torch.dot(x, x)\n",
    "y"
   ],
   "id": "f01fbcf36fa21b9d",
   "outputs": [
    {
     "data": {
      "text/plain": [
       "tensor(28., grad_fn=<MulBackward0>)"
      ]
     },
     "execution_count": 3,
     "metadata": {},
     "output_type": "execute_result"
    }
   ],
   "execution_count": 3
  },
  {
   "metadata": {
    "ExecuteTime": {
     "end_time": "2024-08-10T02:08:49.267754Z",
     "start_time": "2024-08-10T02:08:47.322207Z"
    }
   },
   "cell_type": "code",
   "source": [
    "y.backward()  # 通过调用反向传播函数来自动计算y关于x的梯度\n",
    "x.grad"
   ],
   "id": "f4af95cd532a179f",
   "outputs": [
    {
     "data": {
      "text/plain": [
       "tensor([ 0.,  4.,  8., 12.])"
      ]
     },
     "execution_count": 4,
     "metadata": {},
     "output_type": "execute_result"
    }
   ],
   "execution_count": 4
  },
  {
   "metadata": {
    "ExecuteTime": {
     "end_time": "2024-08-10T02:08:51.589465Z",
     "start_time": "2024-08-10T02:08:51.586101Z"
    }
   },
   "cell_type": "code",
   "source": "x.grad == 4 * x",
   "id": "9341c2ec1d01e7d0",
   "outputs": [
    {
     "data": {
      "text/plain": [
       "tensor([True, True, True, True])"
      ]
     },
     "execution_count": 5,
     "metadata": {},
     "output_type": "execute_result"
    }
   ],
   "execution_count": 5
  },
  {
   "metadata": {
    "ExecuteTime": {
     "end_time": "2024-08-10T02:09:14.693436Z",
     "start_time": "2024-08-10T02:09:14.689250Z"
    }
   },
   "cell_type": "code",
   "source": [
    "x.grad.zero_()  # 梯度清零\n",
    "y = x.sum()\n",
    "y.backward()\n",
    "x.grad"
   ],
   "id": "72428339c784bc9d",
   "outputs": [
    {
     "data": {
      "text/plain": [
       "tensor([1., 1., 1., 1.])"
      ]
     },
     "execution_count": 6,
     "metadata": {},
     "output_type": "execute_result"
    }
   ],
   "execution_count": 6
  },
  {
   "metadata": {},
   "cell_type": "markdown",
   "source": "## 非标量变量的反向传播",
   "id": "d93e8c2f103e0afc"
  },
  {
   "metadata": {
    "ExecuteTime": {
     "end_time": "2024-08-10T02:18:14.953506Z",
     "start_time": "2024-08-10T02:18:14.949720Z"
    }
   },
   "cell_type": "code",
   "source": [
    "x.grad.zero_()\n",
    "y = x * x\n",
    "# 等价于y.backward(torch.ones(len(x)))\n",
    "y.sum().backward()\n",
    "x.grad"
   ],
   "id": "e3b56bed93fb1240",
   "outputs": [
    {
     "data": {
      "text/plain": [
       "tensor([0., 2., 4., 6.])"
      ]
     },
     "execution_count": 7,
     "metadata": {},
     "output_type": "execute_result"
    }
   ],
   "execution_count": 7
  },
  {
   "metadata": {},
   "cell_type": "markdown",
   "source": "## 分离计算",
   "id": "993a7001964ccd1f"
  },
  {
   "metadata": {
    "ExecuteTime": {
     "end_time": "2024-08-10T02:27:43.918450Z",
     "start_time": "2024-08-10T02:27:43.913904Z"
    }
   },
   "cell_type": "code",
   "source": [
    "x.grad.zero_()  # 需要清零之前的梯度\n",
    "y = x * x\n",
    "u = y.detach()  # 分离y，使得我们可以对y进行操作而不会影响到梯度\n",
    "z = u * x  # z关于x的梯度在y被分离后,y就会被当做常数处理"
   ],
   "id": "2db947354ab07a28",
   "outputs": [],
   "execution_count": 8
  },
  {
   "metadata": {
    "ExecuteTime": {
     "end_time": "2024-08-10T02:27:53.238128Z",
     "start_time": "2024-08-10T02:27:53.234832Z"
    }
   },
   "cell_type": "code",
   "source": [
    "z.sum().backward()\n",
    "x.grad == u"
   ],
   "id": "92069f1663c0f094",
   "outputs": [
    {
     "data": {
      "text/plain": [
       "tensor([True, True, True, True])"
      ]
     },
     "execution_count": 9,
     "metadata": {},
     "output_type": "execute_result"
    }
   ],
   "execution_count": 9
  },
  {
   "metadata": {
    "ExecuteTime": {
     "end_time": "2024-08-10T02:28:24.966442Z",
     "start_time": "2024-08-10T02:28:24.963209Z"
    }
   },
   "cell_type": "code",
   "source": [
    "x.grad.zero_()\n",
    "y.sum().backward() # 调用反向传播函数\n",
    "x.grad == 2 * x"
   ],
   "id": "129f1e4670e8ac4f",
   "outputs": [
    {
     "data": {
      "text/plain": [
       "tensor([True, True, True, True])"
      ]
     },
     "execution_count": 10,
     "metadata": {},
     "output_type": "execute_result"
    }
   ],
   "execution_count": 10
  },
  {
   "metadata": {},
   "cell_type": "markdown",
   "source": [
    "## Python控制流的梯度计算\n",
    "这个函数的好处是，它允许我们在定义计算图的时候使用Python的控制流。"
   ],
   "id": "32fbfaad5ca41eed"
  },
  {
   "metadata": {
    "ExecuteTime": {
     "end_time": "2024-08-10T02:30:53.837674Z",
     "start_time": "2024-08-10T02:30:53.835180Z"
    }
   },
   "cell_type": "code",
   "source": [
    "def f(a):\n",
    "    b = a * 2\n",
    "    while b.norm() < 1000:\n",
    "        b = b * 2\n",
    "    if b.sum() > 0:\n",
    "        c = b\n",
    "    else:\n",
    "        c = 100 * b\n",
    "    return c"
   ],
   "id": "37aa07acfa8ba179",
   "outputs": [],
   "execution_count": 11
  },
  {
   "metadata": {
    "ExecuteTime": {
     "end_time": "2024-08-10T02:31:02.326489Z",
     "start_time": "2024-08-10T02:31:02.323376Z"
    }
   },
   "cell_type": "code",
   "source": [
    "a = torch.randn(size=(), requires_grad=True)\n",
    "d = f(a)\n",
    "d.backward()"
   ],
   "id": "7ca60cb5614600cf",
   "outputs": [],
   "execution_count": 12
  },
  {
   "metadata": {
    "ExecuteTime": {
     "end_time": "2024-08-10T02:31:06.087331Z",
     "start_time": "2024-08-10T02:31:06.083871Z"
    }
   },
   "cell_type": "code",
   "source": "a.grad == d / a",
   "id": "df569b48b6817acf",
   "outputs": [
    {
     "data": {
      "text/plain": [
       "tensor(True)"
      ]
     },
     "execution_count": 13,
     "metadata": {},
     "output_type": "execute_result"
    }
   ],
   "execution_count": 13
  },
  {
   "metadata": {},
   "cell_type": "code",
   "outputs": [],
   "execution_count": null,
   "source": "",
   "id": "97cc43813156db27"
  }
 ],
 "metadata": {
  "kernelspec": {
   "display_name": "Python 3",
   "language": "python",
   "name": "python3"
  },
  "language_info": {
   "codemirror_mode": {
    "name": "ipython",
    "version": 2
   },
   "file_extension": ".py",
   "mimetype": "text/x-python",
   "name": "python",
   "nbconvert_exporter": "python",
   "pygments_lexer": "ipython2",
   "version": "2.7.6"
  }
 },
 "nbformat": 4,
 "nbformat_minor": 5
}
