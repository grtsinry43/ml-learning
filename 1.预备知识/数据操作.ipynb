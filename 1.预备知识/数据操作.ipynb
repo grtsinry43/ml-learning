{
 "cells": [
  {
   "cell_type": "markdown",
   "id": "b542cae373c5f58",
   "metadata": {},
   "source": [
    "# 数据操作\n",
    "## 创建张量"
   ]
  },
  {
   "cell_type": "code",
   "execution_count": 1,
   "id": "initial_id",
   "metadata": {
    "ExecuteTime": {
     "end_time": "2024-08-07T04:25:37.791341Z",
     "start_time": "2024-08-07T04:25:36.759946Z"
    }
   },
   "outputs": [
    {
     "name": "stdout",
     "output_type": "stream",
     "text": [
      "tensor([ 0,  1,  2,  3,  4,  5,  6,  7,  8,  9, 10, 11])\n"
     ]
    }
   ],
   "source": [
    "import torch\n",
    "\n",
    "x = torch.arange(12)\n",
    "print(x)"
   ]
  },
  {
   "cell_type": "markdown",
   "id": "3a7bbbf1a1ababff",
   "metadata": {},
   "source": [
    "获取张量的形状（沿每个轴的元素数量）"
   ]
  },
  {
   "cell_type": "code",
   "execution_count": 2,
   "id": "e5db74852d4b8c47",
   "metadata": {
    "ExecuteTime": {
     "end_time": "2024-08-07T04:26:44.507120Z",
     "start_time": "2024-08-07T04:26:44.504546Z"
    }
   },
   "outputs": [
    {
     "name": "stdout",
     "output_type": "stream",
     "text": [
      "torch.Size([12])\n"
     ]
    }
   ],
   "source": [
    "print(x.shape)"
   ]
  },
  {
   "cell_type": "markdown",
   "id": "ea480f90636f3d2b",
   "metadata": {},
   "source": [
    "获取张量中元素的总数（形状中所有元素的乘积）"
   ]
  },
  {
   "cell_type": "code",
   "execution_count": 3,
   "id": "579ed002005ae68a",
   "metadata": {
    "ExecuteTime": {
     "end_time": "2024-08-07T04:28:22.042659Z",
     "start_time": "2024-08-07T04:28:22.040397Z"
    }
   },
   "outputs": [
    {
     "name": "stdout",
     "output_type": "stream",
     "text": [
      "12\n"
     ]
    }
   ],
   "source": [
    "print(x.numel())"
   ]
  },
  {
   "cell_type": "markdown",
   "id": "26cd9735f556d4aa",
   "metadata": {},
   "source": [
    "仅仅改变张量的形状，而不改变元素的数量和值\n",
    "**改变张量的形状，不会改变张量的大小**"
   ]
  },
  {
   "cell_type": "code",
   "execution_count": 4,
   "id": "ae2f8e201586b65c",
   "metadata": {
    "ExecuteTime": {
     "end_time": "2024-08-07T04:29:35.938562Z",
     "start_time": "2024-08-07T04:29:35.935715Z"
    }
   },
   "outputs": [
    {
     "name": "stdout",
     "output_type": "stream",
     "text": [
      "tensor([[ 0,  1,  2,  3],\n",
      "        [ 4,  5,  6,  7],\n",
      "        [ 8,  9, 10, 11]])\n"
     ]
    }
   ],
   "source": [
    "X = x.reshape(3, 4)\n",
    "print(X)"
   ]
  },
  {
   "cell_type": "code",
   "execution_count": 5,
   "id": "f4c94ec8ea23ccb7",
   "metadata": {
    "ExecuteTime": {
     "end_time": "2024-08-07T04:43:10.575234Z",
     "start_time": "2024-08-07T04:43:10.571482Z"
    }
   },
   "outputs": [
    {
     "name": "stdout",
     "output_type": "stream",
     "text": [
      "tensor([[[0., 0., 0., 0.],\n",
      "         [0., 0., 0., 0.],\n",
      "         [0., 0., 0., 0.]],\n",
      "\n",
      "        [[0., 0., 0., 0.],\n",
      "         [0., 0., 0., 0.],\n",
      "         [0., 0., 0., 0.]]])\n"
     ]
    }
   ],
   "source": [
    "print(torch.zeros((2, 3, 4)))"
   ]
  },
  {
   "cell_type": "code",
   "execution_count": 6,
   "id": "8e92f77a0a213593",
   "metadata": {
    "ExecuteTime": {
     "end_time": "2024-08-07T04:43:21.745590Z",
     "start_time": "2024-08-07T04:43:21.742152Z"
    }
   },
   "outputs": [
    {
     "name": "stdout",
     "output_type": "stream",
     "text": [
      "tensor([[[1., 1., 1., 1.],\n",
      "         [1., 1., 1., 1.],\n",
      "         [1., 1., 1., 1.]],\n",
      "\n",
      "        [[1., 1., 1., 1.],\n",
      "         [1., 1., 1., 1.],\n",
      "         [1., 1., 1., 1.]]])\n"
     ]
    }
   ],
   "source": [
    "print(torch.ones((2, 3, 4)))"
   ]
  },
  {
   "cell_type": "markdown",
   "id": "50d5915f92d9740e",
   "metadata": {},
   "source": [
    "均值为0，标准差为1的正态分布"
   ]
  },
  {
   "cell_type": "code",
   "execution_count": 7,
   "id": "40f477cc453499ac",
   "metadata": {
    "ExecuteTime": {
     "end_time": "2024-08-07T04:44:16.549119Z",
     "start_time": "2024-08-07T04:44:16.546554Z"
    }
   },
   "outputs": [
    {
     "name": "stdout",
     "output_type": "stream",
     "text": [
      "tensor([[ 0.9428, -1.1350, -0.8976, -0.8036],\n",
      "        [-0.4587, -0.4411, -0.5509, -0.0547],\n",
      "        [-1.0873,  0.3921, -1.3750, -0.1604]])\n"
     ]
    }
   ],
   "source": [
    "print(torch.randn(3, 4))"
   ]
  },
  {
   "cell_type": "code",
   "execution_count": 8,
   "id": "6d51fc6d0012b52f",
   "metadata": {
    "ExecuteTime": {
     "end_time": "2024-08-07T04:44:33.509070Z",
     "start_time": "2024-08-07T04:44:33.506545Z"
    }
   },
   "outputs": [
    {
     "name": "stdout",
     "output_type": "stream",
     "text": [
      "tensor([[2, 1, 4, 3],\n",
      "        [1, 2, 3, 4],\n",
      "        [4, 3, 2, 1]])\n"
     ]
    }
   ],
   "source": [
    "print(torch.tensor([[2, 1, 4, 3], [1, 2, 3, 4], [4, 3, 2, 1]]))"
   ]
  },
  {
   "cell_type": "markdown",
   "id": "e5e51e5322a68eb9",
   "metadata": {},
   "source": [
    "## 运算"
   ]
  },
  {
   "cell_type": "code",
   "execution_count": 9,
   "id": "f96cfa4e0c150dad",
   "metadata": {
    "ExecuteTime": {
     "end_time": "2024-08-07T04:51:25.937601Z",
     "start_time": "2024-08-07T04:51:25.934209Z"
    }
   },
   "outputs": [
    {
     "name": "stdout",
     "output_type": "stream",
     "text": [
      "tensor([ 3.,  4.,  6., 10.])\n",
      "tensor([-1.,  0.,  2.,  6.])\n",
      "tensor([ 2.,  4.,  8., 16.])\n",
      "tensor([0.5000, 1.0000, 2.0000, 4.0000])\n"
     ]
    }
   ],
   "source": [
    "x = torch.tensor([1.0, 2, 4, 8])\n",
    "y = torch.tensor([2, 2, 2, 2])\n",
    "print(x + y)\n",
    "print(x - y)\n",
    "print(x * y)\n",
    "print(x / y)"
   ]
  },
  {
   "cell_type": "markdown",
   "id": "f30cfb5be7f2dc4c",
   "metadata": {},
   "source": [
    "求对数的幂运算：$y=e^x$"
   ]
  },
  {
   "cell_type": "code",
   "execution_count": 10,
   "id": "6eb51e53b12abc6d",
   "metadata": {
    "ExecuteTime": {
     "end_time": "2024-08-07T04:51:54.713548Z",
     "start_time": "2024-08-07T04:51:54.709313Z"
    }
   },
   "outputs": [
    {
     "name": "stdout",
     "output_type": "stream",
     "text": [
      "tensor([2.7183e+00, 7.3891e+00, 5.4598e+01, 2.9810e+03])\n"
     ]
    }
   ],
   "source": [
    "print(torch.exp(x))"
   ]
  },
  {
   "cell_type": "code",
   "execution_count": 11,
   "id": "b735c0abb1d6df5",
   "metadata": {
    "ExecuteTime": {
     "end_time": "2024-08-07T04:56:01.898427Z",
     "start_time": "2024-08-07T04:56:01.894266Z"
    }
   },
   "outputs": [
    {
     "name": "stdout",
     "output_type": "stream",
     "text": [
      "tensor([[ 0.,  1.,  2.,  3.],\n",
      "        [ 4.,  5.,  6.,  7.],\n",
      "        [ 8.,  9., 10., 11.],\n",
      "        [ 2.,  1.,  4.,  3.],\n",
      "        [ 1.,  2.,  3.,  4.],\n",
      "        [ 4.,  3.,  2.,  1.]])\n",
      "tensor([[ 0.,  1.,  2.,  3.,  2.,  1.,  4.,  3.],\n",
      "        [ 4.,  5.,  6.,  7.,  1.,  2.,  3.,  4.],\n",
      "        [ 8.,  9., 10., 11.,  4.,  3.,  2.,  1.]])\n"
     ]
    }
   ],
   "source": [
    "X = torch.arange(12, dtype=torch.float32).reshape((3, 4))\n",
    "Y = torch.tensor([[2.0, 1, 4, 3], [1, 2, 3, 4], [4, 3, 2, 1]])\n",
    "print(torch.cat((X, Y), dim=0))  # 沿行（轴0）拼接\n",
    "print(torch.cat((X, Y), dim=1))  # 沿列（轴1）拼接"
   ]
  },
  {
   "cell_type": "code",
   "execution_count": 12,
   "id": "4cd2b2cb2f854afd",
   "metadata": {
    "ExecuteTime": {
     "end_time": "2024-08-07T04:56:22.987169Z",
     "start_time": "2024-08-07T04:56:22.984874Z"
    }
   },
   "outputs": [
    {
     "name": "stdout",
     "output_type": "stream",
     "text": [
      "tensor([[False,  True, False,  True],\n",
      "        [False, False, False, False],\n",
      "        [False, False, False, False]])\n"
     ]
    }
   ],
   "source": [
    "print(X == Y)"
   ]
  },
  {
   "cell_type": "code",
   "execution_count": 13,
   "id": "c095972931d00dee",
   "metadata": {
    "ExecuteTime": {
     "end_time": "2024-08-07T04:56:38.024044Z",
     "start_time": "2024-08-07T04:56:38.021728Z"
    }
   },
   "outputs": [
    {
     "name": "stdout",
     "output_type": "stream",
     "text": [
      "tensor(66.)\n"
     ]
    }
   ],
   "source": [
    "print(X.sum())"
   ]
  },
  {
   "metadata": {},
   "cell_type": "markdown",
   "source": "广播机制：当对两个形状不同的张量按元素运算时，PyTorch会尝试将它们广播为一个合法的形状（复制每行或每列）",
   "id": "c06ac0713b41b291"
  },
  {
   "cell_type": "code",
   "id": "54e7c539b44f2e1c",
   "metadata": {
    "ExecuteTime": {
     "end_time": "2024-08-07T05:02:43.357677Z",
     "start_time": "2024-08-07T05:02:43.354802Z"
    }
   },
   "source": [
    "a = torch.arange(3).reshape((3, 1))\n",
    "b = torch.arange(2).reshape((1, 2))\n",
    "print(a)\n",
    "print(b)\n",
    "print(a + b)"
   ],
   "outputs": [
    {
     "name": "stdout",
     "output_type": "stream",
     "text": [
      "tensor([[0],\n",
      "        [1],\n",
      "        [2]])\n",
      "tensor([[0, 1]])\n",
      "tensor([[0, 1],\n",
      "        [1, 2],\n",
      "        [2, 3]])\n"
     ]
    }
   ],
   "execution_count": 15
  },
  {
   "metadata": {},
   "cell_type": "markdown",
   "source": "## 索引和切片",
   "id": "24a2106ff9a69f85"
  },
  {
   "metadata": {
    "ExecuteTime": {
     "end_time": "2024-08-07T05:11:34.889722Z",
     "start_time": "2024-08-07T05:11:34.886948Z"
    }
   },
   "cell_type": "code",
   "source": [
    "print(X)\n",
    "print(X[-1])\n",
    "print(X[1:3])"
   ],
   "id": "f31d12d010cf52a1",
   "outputs": [
    {
     "name": "stdout",
     "output_type": "stream",
     "text": [
      "tensor([[ 0.,  1.,  2.,  3.],\n",
      "        [ 4.,  5.,  6.,  7.],\n",
      "        [ 8.,  9., 10., 11.]])\n",
      "tensor([ 8.,  9., 10., 11.])\n",
      "tensor([[ 4.,  5.,  6.,  7.],\n",
      "        [ 8.,  9., 10., 11.]])\n"
     ]
    }
   ],
   "execution_count": 16
  },
  {
   "metadata": {
    "ExecuteTime": {
     "end_time": "2024-08-07T05:12:09.598152Z",
     "start_time": "2024-08-07T05:12:09.595469Z"
    }
   },
   "cell_type": "code",
   "source": [
    "print(X[1, 2])\n",
    "X[1, 2] = 9\n",
    "print(X)"
   ],
   "id": "db59fd76fadcbe9f",
   "outputs": [
    {
     "name": "stdout",
     "output_type": "stream",
     "text": [
      "tensor(6.)\n",
      "tensor([[ 0.,  1.,  2.,  3.],\n",
      "        [ 4.,  5.,  9.,  7.],\n",
      "        [ 8.,  9., 10., 11.]])\n"
     ]
    }
   ],
   "execution_count": 17
  },
  {
   "metadata": {
    "ExecuteTime": {
     "end_time": "2024-08-07T05:13:07.188157Z",
     "start_time": "2024-08-07T05:13:07.185493Z"
    }
   },
   "cell_type": "code",
   "source": [
    "print(X[0:2, :])\n",
    "X[0:2, :] = 12\n",
    "print(X)"
   ],
   "id": "95cb0a7694830d71",
   "outputs": [
    {
     "name": "stdout",
     "output_type": "stream",
     "text": [
      "tensor([[0., 1., 2., 3.],\n",
      "        [4., 5., 9., 7.]])\n",
      "tensor([[12., 12., 12., 12.],\n",
      "        [12., 12., 12., 12.],\n",
      "        [ 8.,  9., 10., 11.]])\n"
     ]
    }
   ],
   "execution_count": 18
  },
  {
   "metadata": {},
   "cell_type": "markdown",
   "source": "## 节省内存",
   "id": "786bb121dd82233d"
  },
  {
   "metadata": {
    "ExecuteTime": {
     "end_time": "2024-08-07T05:14:22.782070Z",
     "start_time": "2024-08-07T05:14:22.780091Z"
    }
   },
   "cell_type": "code",
   "source": [
    "before = id(Y)\n",
    "Y = Y + X\n",
    "print(id(Y) == before)"
   ],
   "id": "2505eb1b4e8ec13a",
   "outputs": [
    {
     "name": "stdout",
     "output_type": "stream",
     "text": [
      "False\n"
     ]
    }
   ],
   "execution_count": 19
  },
  {
   "metadata": {
    "ExecuteTime": {
     "end_time": "2024-08-07T05:15:06.612956Z",
     "start_time": "2024-08-07T05:15:06.610425Z"
    }
   },
   "cell_type": "code",
   "source": [
    "Z = torch.zeros_like(Y)\n",
    "print('id(Z):', id(Z))\n",
    "Z[:] = X + Y\n",
    "print('id(Z):', id(Z))"
   ],
   "id": "8d01e76b4a99ebc8",
   "outputs": [
    {
     "name": "stdout",
     "output_type": "stream",
     "text": [
      "id(Z): 139466098308592\n",
      "id(Z): 139466098308592\n"
     ]
    }
   ],
   "execution_count": 20
  },
  {
   "metadata": {
    "ExecuteTime": {
     "end_time": "2024-08-07T05:15:16.412456Z",
     "start_time": "2024-08-07T05:15:16.410034Z"
    }
   },
   "cell_type": "code",
   "source": [
    "before = id(X)\n",
    "X += Y\n",
    "print(id(X) == before)"
   ],
   "id": "c72abed326ef90ce",
   "outputs": [
    {
     "name": "stdout",
     "output_type": "stream",
     "text": [
      "True\n"
     ]
    }
   ],
   "execution_count": 21
  },
  {
   "metadata": {},
   "cell_type": "markdown",
   "source": "## 转换为其他Python对象",
   "id": "1fc775c79ceebe15"
  },
  {
   "metadata": {
    "ExecuteTime": {
     "end_time": "2024-08-07T05:16:59.794975Z",
     "start_time": "2024-08-07T05:16:59.792391Z"
    }
   },
   "cell_type": "code",
   "source": [
    "A = X.numpy()\n",
    "B = torch.tensor(A)\n",
    "print(type(A), type(B))"
   ],
   "id": "85101af64abb921f",
   "outputs": [
    {
     "name": "stdout",
     "output_type": "stream",
     "text": [
      "<class 'numpy.ndarray'> <class 'torch.Tensor'>\n"
     ]
    }
   ],
   "execution_count": 24
  },
  {
   "metadata": {
    "ExecuteTime": {
     "end_time": "2024-08-07T05:17:16.069075Z",
     "start_time": "2024-08-07T05:17:16.066589Z"
    }
   },
   "cell_type": "code",
   "source": [
    "a = torch.tensor([3.5])\n",
    "print(a, a.item(), float(a), int(a))"
   ],
   "id": "58650915a657b6da",
   "outputs": [
    {
     "name": "stdout",
     "output_type": "stream",
     "text": [
      "tensor([3.5000]) 3.5 3.5 3\n"
     ]
    }
   ],
   "execution_count": 25
  },
  {
   "metadata": {},
   "cell_type": "code",
   "outputs": [],
   "execution_count": null,
   "source": "",
   "id": "dae064d5c19ab315"
  }
 ],
 "metadata": {
  "kernelspec": {
   "display_name": "Python 3 (ipykernel)",
   "language": "python",
   "name": "python3"
  },
  "language_info": {
   "codemirror_mode": {
    "name": "ipython",
    "version": 3
   },
   "file_extension": ".py",
   "mimetype": "text/x-python",
   "name": "python",
   "nbconvert_exporter": "python",
   "pygments_lexer": "ipython3",
   "version": "3.11.9"
  }
 },
 "nbformat": 4,
 "nbformat_minor": 5
}
