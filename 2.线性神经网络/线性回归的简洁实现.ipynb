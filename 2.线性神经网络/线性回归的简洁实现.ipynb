{
 "cells": [
  {
   "metadata": {},
   "cell_type": "markdown",
   "source": "# 线性回归的简洁实现",
   "id": "2bd2fcaebfa7b88b"
  },
  {
   "cell_type": "code",
   "id": "initial_id",
   "metadata": {
    "collapsed": true,
    "ExecuteTime": {
     "end_time": "2024-08-15T14:34:20.767826Z",
     "start_time": "2024-08-15T14:34:18.811134Z"
    }
   },
   "source": [
    "import numpy as np\n",
    "import torch\n",
    "from torch.utils import data\n",
    "from d2l import torch as d2l"
   ],
   "outputs": [],
   "execution_count": 1
  },
  {
   "metadata": {
    "ExecuteTime": {
     "end_time": "2024-08-15T14:34:38.518088Z",
     "start_time": "2024-08-15T14:34:38.513316Z"
    }
   },
   "cell_type": "code",
   "source": [
    "true_w = torch.tensor([2, -3.4])\n",
    "true_b = 4.2\n",
    "features, labels = d2l.synthetic_data(true_w, true_b, 1000)"
   ],
   "id": "48c4892ee8211b5a",
   "outputs": [],
   "execution_count": 2
  },
  {
   "metadata": {
    "ExecuteTime": {
     "end_time": "2024-08-15T14:36:10.012158Z",
     "start_time": "2024-08-15T14:36:10.010183Z"
    }
   },
   "cell_type": "code",
   "source": [
    "def load_array(data_arrays, batch_size, is_train=True):\n",
    "    dataset = data.TensorDataset(*data_arrays)\n",
    "    return data.DataLoader(dataset, batch_size, shuffle=is_train)"
   ],
   "id": "86cbcab221a5a58b",
   "outputs": [],
   "execution_count": 3
  },
  {
   "metadata": {
    "ExecuteTime": {
     "end_time": "2024-08-15T14:36:34.300203Z",
     "start_time": "2024-08-15T14:36:34.297942Z"
    }
   },
   "cell_type": "code",
   "source": [
    "batch_size = 10\n",
    "data_iter = load_array((features, labels), batch_size)"
   ],
   "id": "49240af080330d4c",
   "outputs": [],
   "execution_count": 4
  },
  {
   "metadata": {
    "ExecuteTime": {
     "end_time": "2024-08-15T14:36:41.583683Z",
     "start_time": "2024-08-15T14:36:41.579269Z"
    }
   },
   "cell_type": "code",
   "source": "next(iter(data_iter))",
   "id": "666460ca14113652",
   "outputs": [
    {
     "data": {
      "text/plain": [
       "[tensor([[ 0.6447,  0.1319],\n",
       "         [ 0.2919, -0.0684],\n",
       "         [ 0.2572, -0.6786],\n",
       "         [-0.7017,  0.9515],\n",
       "         [-0.7252,  0.1909],\n",
       "         [ 1.1540, -1.5628],\n",
       "         [-0.1130,  1.8750],\n",
       "         [-1.5889,  0.1626],\n",
       "         [-0.6187,  1.1360],\n",
       "         [-1.1109,  0.5393]]),\n",
       " tensor([[ 5.0417],\n",
       "         [ 5.0304],\n",
       "         [ 7.0371],\n",
       "         [-0.4394],\n",
       "         [ 2.0938],\n",
       "         [11.8252],\n",
       "         [-2.4117],\n",
       "         [ 0.4719],\n",
       "         [-0.8876],\n",
       "         [ 0.1420]])]"
      ]
     },
     "execution_count": 5,
     "metadata": {},
     "output_type": "execute_result"
    }
   ],
   "execution_count": 5
  },
  {
   "metadata": {
    "ExecuteTime": {
     "end_time": "2024-08-15T14:37:53.856969Z",
     "start_time": "2024-08-15T14:37:53.854833Z"
    }
   },
   "cell_type": "code",
   "source": [
    "from torch import nn\n",
    "\n",
    "net = nn.Sequential(nn.Linear(2, 1))"
   ],
   "id": "210cea66bdf3286c",
   "outputs": [],
   "execution_count": 6
  },
  {
   "metadata": {
    "ExecuteTime": {
     "end_time": "2024-08-15T14:42:15.054868Z",
     "start_time": "2024-08-15T14:42:15.051021Z"
    }
   },
   "cell_type": "code",
   "source": [
    "net[0].weight.data.uniform_(0, 0.01)\n",
    "net[0].bias.data.fill_(0)"
   ],
   "id": "2a89e0b19e06e7ac",
   "outputs": [
    {
     "data": {
      "text/plain": [
       "tensor([0.])"
      ]
     },
     "execution_count": 7,
     "metadata": {},
     "output_type": "execute_result"
    }
   ],
   "execution_count": 7
  },
  {
   "metadata": {
    "ExecuteTime": {
     "end_time": "2024-08-15T14:42:45.168749Z",
     "start_time": "2024-08-15T14:42:45.164536Z"
    }
   },
   "cell_type": "code",
   "source": "loss = nn.MSELoss()",
   "id": "cd0c29bd4c99966f",
   "outputs": [],
   "execution_count": 9
  },
  {
   "metadata": {
    "ExecuteTime": {
     "end_time": "2024-08-15T14:42:47.125926Z",
     "start_time": "2024-08-15T14:42:47.121899Z"
    }
   },
   "cell_type": "code",
   "source": "trainer = torch.optim.SGD(net.parameters(), lr=0.03)",
   "id": "293f6401596edf67",
   "outputs": [],
   "execution_count": 10
  },
  {
   "metadata": {
    "ExecuteTime": {
     "end_time": "2024-08-15T14:42:48.870572Z",
     "start_time": "2024-08-15T14:42:48.790389Z"
    }
   },
   "cell_type": "code",
   "source": [
    "num_epochs = 3\n",
    "for epoch in range(num_epochs):\n",
    "    for X, y in data_iter:\n",
    "        l = loss(net(X), y)\n",
    "        trainer.zero_grad()\n",
    "        l.backward()\n",
    "        trainer.step()\n",
    "    l = loss(net(features), labels)\n",
    "    print(f'epoch {epoch + 1}, loss {l:f}')"
   ],
   "id": "43edfc01d0225607",
   "outputs": [
    {
     "name": "stdout",
     "output_type": "stream",
     "text": [
      "epoch 1, loss 0.000334\n",
      "epoch 2, loss 0.000100\n",
      "epoch 3, loss 0.000100\n"
     ]
    }
   ],
   "execution_count": 11
  },
  {
   "metadata": {
    "ExecuteTime": {
     "end_time": "2024-08-15T14:43:09.914622Z",
     "start_time": "2024-08-15T14:43:09.911607Z"
    }
   },
   "cell_type": "code",
   "source": [
    "w = net[0].weight.data\n",
    "print('error in estimating w:', true_w - w.reshape(true_w.shape))\n",
    "b = net[0].bias.data\n",
    "print('error in estimating b:', true_b - b)"
   ],
   "id": "493d2fd23378638e",
   "outputs": [
    {
     "name": "stdout",
     "output_type": "stream",
     "text": [
      "error in estimating w: tensor([5.9772e-04, 2.5988e-05])\n",
      "error in estimating b: tensor([0.0002])\n"
     ]
    }
   ],
   "execution_count": 12
  }
 ],
 "metadata": {
  "kernelspec": {
   "display_name": "Python 3",
   "language": "python",
   "name": "python3"
  },
  "language_info": {
   "codemirror_mode": {
    "name": "ipython",
    "version": 2
   },
   "file_extension": ".py",
   "mimetype": "text/x-python",
   "name": "python",
   "nbconvert_exporter": "python",
   "pygments_lexer": "ipython2",
   "version": "2.7.6"
  }
 },
 "nbformat": 4,
 "nbformat_minor": 5
}
