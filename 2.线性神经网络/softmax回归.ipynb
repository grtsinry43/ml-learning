{
 "cells": [
  {
   "metadata": {},
   "cell_type": "markdown",
   "source": "# softmax回归",
   "id": "38db19323ed941c4"
  },
  {
   "metadata": {},
   "cell_type": "markdown",
   "source": "$H(P) = -\\sum_{x}P(x)log(P(x))$",
   "id": "97cd83586ffa2809"
  },
  {
   "metadata": {},
   "cell_type": "markdown",
   "source": "",
   "id": "646cb3a89759978c"
  }
 ],
 "metadata": {
  "kernelspec": {
   "display_name": "Python 3",
   "language": "python",
   "name": "python3"
  },
  "language_info": {
   "codemirror_mode": {
    "name": "ipython",
    "version": 2
   },
   "file_extension": ".py",
   "mimetype": "text/x-python",
   "name": "python",
   "nbconvert_exporter": "python",
   "pygments_lexer": "ipython2",
   "version": "2.7.6"
  }
 },
 "nbformat": 4,
 "nbformat_minor": 5
}
