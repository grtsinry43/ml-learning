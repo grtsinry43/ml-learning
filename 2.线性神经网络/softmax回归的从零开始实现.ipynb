{
 "cells": [
  {
   "cell_type": "code",
   "id": "initial_id",
   "metadata": {
    "collapsed": true,
    "ExecuteTime": {
     "end_time": "2024-10-02T10:43:15.836688Z",
     "start_time": "2024-10-02T10:43:13.952279Z"
    }
   },
   "source": [
    "# 先加载数据集\n",
    "import torch\n",
    "from IPython import display\n",
    "from d2l import torch as d2l\n",
    "from torch.sparse import softmax\n",
    "\n",
    "batch_size = 256\n",
    "train_iter, test_iter = d2l.load_data_fashion_mnist(batch_size)"
   ],
   "outputs": [],
   "execution_count": 1
  },
  {
   "metadata": {
    "ExecuteTime": {
     "end_time": "2024-10-02T10:49:52.898125Z",
     "start_time": "2024-10-02T10:49:52.895909Z"
    }
   },
   "cell_type": "code",
   "source": [
    "num_inputs = 784\n",
    "num_outputs = 10\n",
    "W = torch.normal(0, 0.01, size=(num_inputs, num_outputs), requires_grad=True)\n",
    "b = torch.zeros(num_outputs, requires_grad=True)"
   ],
   "id": "504007257b00cf1f",
   "outputs": [],
   "execution_count": 2
  },
  {
   "metadata": {
    "ExecuteTime": {
     "end_time": "2024-10-02T10:59:39.974355Z",
     "start_time": "2024-10-02T10:59:39.972359Z"
    }
   },
   "cell_type": "code",
   "source": [
    "def new(X):\n",
    "    return softmax(torch.matmul(X.reshape((-1, W.reshape[0])), W) + b)"
   ],
   "id": "b87d55fbd5d29179",
   "outputs": [],
   "execution_count": 3
  },
  {
   "metadata": {
    "ExecuteTime": {
     "end_time": "2024-10-02T11:01:17.784254Z",
     "start_time": "2024-10-02T11:01:17.780390Z"
    }
   },
   "cell_type": "code",
   "source": [
    "y = torch.tensor([0,2])\n",
    "y_hat = torch.tensor([[0.1, 0.3, 0.6], [0.3, 0.2, 0.5]])\n",
    "y_hat[[0,1], y]"
   ],
   "id": "4e6836373a4c0568",
   "outputs": [
    {
     "data": {
      "text/plain": [
       "tensor([0.1000, 0.5000])"
      ]
     },
     "execution_count": 4,
     "metadata": {},
     "output_type": "execute_result"
    }
   ],
   "execution_count": 4
  },
  {
   "metadata": {
    "ExecuteTime": {
     "end_time": "2024-10-02T11:01:31.754563Z",
     "start_time": "2024-10-02T11:01:31.751791Z"
    }
   },
   "cell_type": "code",
   "source": [
    "# 交叉熵损失函数\n",
    "def cross_entropy(y_hat, y):\n",
    "    return -torch.log(y_hat[range(len(y_hat)), y])"
   ],
   "id": "1f35cb30a97f98c8",
   "outputs": [],
   "execution_count": 5
  }
 ],
 "metadata": {
  "kernelspec": {
   "display_name": "Python 3",
   "language": "python",
   "name": "python3"
  },
  "language_info": {
   "codemirror_mode": {
    "name": "ipython",
    "version": 2
   },
   "file_extension": ".py",
   "mimetype": "text/x-python",
   "name": "python",
   "nbconvert_exporter": "python",
   "pygments_lexer": "ipython2",
   "version": "2.7.6"
  }
 },
 "nbformat": 4,
 "nbformat_minor": 5
}
